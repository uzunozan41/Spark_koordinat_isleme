{
 "cells": [
  {
   "cell_type": "code",
   "execution_count": 2,
   "id": "e1b42add",
   "metadata": {},
   "outputs": [],
   "source": [
    "from kafka import KafkaProducer\n",
    "from time import sleep\n",
    "import json\n",
    "import random\n",
    "produc=KafkaProducer(value_serializer=lambda m: json.dumps(m).encode('utf-8'))"
   ]
  },
  {
   "cell_type": "code",
   "execution_count": null,
   "id": "7864945a",
   "metadata": {},
   "outputs": [],
   "source": [
    "data_gps={}\n",
    "while True:\n",
    "    gps_id=\"00\"+str(random.randint(1,9))\n",
    "    koordinat=[round(random.uniform(1000,2000),2),round(random.uniform(1000,2000),2)]\n",
    "    \n",
    "    if gps_id not in data_gps.keys():\n",
    "        gps={}\n",
    "        gps[\"gps_id\"]=gps_id\n",
    "        gps[\"start\"]=koordinat\n",
    "        gps[\"stop\"]=0\n",
    "        data_gps[gps_id]=gps\n",
    "    elif data_gps[gps_id][\"stop\"]==0:\n",
    "        data_gps[gps_id][\"stop\"]=[round(data_gps[gps_id][\"start\"][0]+2*random.uniform(-0.5,0.5),2),\n",
    "                                  round(data_gps[gps_id][\"start\"][1]+2*random.uniform(-0.5,0.5),2)]\n",
    "    else:\n",
    "\n",
    "        data_gps[gps_id][\"start\"]=data_gps[gps_id][\"stop\"]\n",
    "        data_gps[gps_id][\"stop\"]=[round(data_gps[gps_id][\"start\"][0]+2*random.uniform(-0.5,0.5),2),\n",
    "                                  round(data_gps[gps_id][\"start\"][1]+2*random.uniform(-0.5,0.5),2)]\n",
    "    if data_gps[gps_id][\"stop\"]!=0:\n",
    "        produc.send(\"gps\",data_gps[gps_id])\n",
    "        sleep(0.2)\n",
    "        "
   ]
  },
  {
   "cell_type": "code",
   "execution_count": null,
   "id": "d3d1be72",
   "metadata": {},
   "outputs": [],
   "source": []
  }
 ],
 "metadata": {
  "kernelspec": {
   "display_name": "Python 3",
   "language": "python",
   "name": "python3"
  },
  "language_info": {
   "codemirror_mode": {
    "name": "ipython",
    "version": 3
   },
   "file_extension": ".py",
   "mimetype": "text/x-python",
   "name": "python",
   "nbconvert_exporter": "python",
   "pygments_lexer": "ipython3",
   "version": "3.6.15"
  }
 },
 "nbformat": 4,
 "nbformat_minor": 5
}
