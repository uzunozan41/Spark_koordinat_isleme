{
 "cells": [
  {
   "cell_type": "code",
   "execution_count": 1,
   "id": "29b5ce70",
   "metadata": {},
   "outputs": [],
   "source": [
    "import findspark\n",
    "findspark.init(\"/home/ozan/spark\")\n",
    "\n",
    "import os\n",
    "os.environ[\"PYSPARK_SUBMIT_ARGS\"]= '--packages org.apache.spark:spark-sql-kafka-0-10_2.11:2.3.1 pyspark-shell'\n",
    "\n",
    "from pyspark.sql import SparkSession\n",
    "from pyspark.sql.types import *\n",
    "from pyspark.sql.functions import *\n",
    "\n",
    "spark= SparkSession.builder \\\n",
    ".master(\"local[4]\") \\\n",
    ".appName(\"sparkproje\") \\\n",
    ".getOrCreate()"
   ]
  },
  {
   "cell_type": "code",
   "execution_count": 2,
   "id": "29aa1461",
   "metadata": {},
   "outputs": [],
   "source": [
    "def uzunluk(start,stop):\n",
    "    valuex=(stop[0]-start[0])**2\n",
    "    valuey=(stop[1]-start[1])**2\n",
    "    return round(sqrt(valuex+valuey),2)"
   ]
  },
  {
   "cell_type": "markdown",
   "id": "28f6f47d",
   "metadata": {},
   "source": [
    "# Step 1"
   ]
  },
  {
   "cell_type": "code",
   "execution_count": 3,
   "id": "24fd27e9",
   "metadata": {},
   "outputs": [],
   "source": [
    "#Kafka bağlanan Dataframe'i oluştruma\n",
    "df_step11= spark \\\n",
    ".readStream \\\n",
    ".format(\"kafka\") \\\n",
    ".option(\"kafka.bootstrap.servers\",\"localhost:9092\") \\\n",
    ".option(\"subscribe\",\"gps\") \\\n",
    ".load()\n",
    "\n",
    "df_step12 = df_step11.selectExpr(\"CAST(value AS STRING)\")\n",
    "\n",
    "#query= df_step12.writeStream.format(\"console\").outputMode(\"append\").start()\n",
    "#query.stop()"
   ]
  },
  {
   "cell_type": "markdown",
   "id": "28090062",
   "metadata": {},
   "source": [
    "# Step 2"
   ]
  },
  {
   "cell_type": "code",
   "execution_count": 4,
   "id": "51f1df4e",
   "metadata": {},
   "outputs": [],
   "source": [
    "#Şemayı oluşturma ve akan dataya yerleştirme\n",
    "schema=StructType([\n",
    "    StructField(\"gps_id\",StringType()),\n",
    "    StructField(\"start\",ArrayType(FloatType())),\n",
    "    StructField(\"stop\",ArrayType(FloatType()))\n",
    "    \n",
    "])\n",
    "\n",
    "df_step2=df_step12.withColumn(\"value\",from_json(\"value\",schema).alias(\"gps\"))\n",
    "\n",
    "#query= df_step2.select(col(\"value.gps_id\"),col(\"value.start\"),col(\"value.stop\"),).writeStream.format(\"console\").outputMode(\"append\").start()\n",
    "#query.stop()"
   ]
  },
  {
   "cell_type": "markdown",
   "id": "741e2ef1",
   "metadata": {},
   "source": [
    "# Step 3"
   ]
  },
  {
   "cell_type": "code",
   "execution_count": 5,
   "id": "a3e32b3a",
   "metadata": {},
   "outputs": [],
   "source": [
    "#Mesafeleri hesaplamak için uzunluk fonksiyonunu kullanma\n",
    "df_step3=df_step2.select(\n",
    "    col(\"value.gps_id\"),\n",
    "    col(\"value.start\"),\n",
    "    col(\"value.stop\"),\n",
    "    uzunluk(col(\"value.start\"),col(\"value.stop\")).alias(\"distanse\"))\n",
    "\n",
    "#query= df_step3.select(\"gps_id\",\"start\",\"stop\",\"distanse\").writeStream.format(\"console\").outputMode(\"append\").start()\n",
    "#query.stop()"
   ]
  },
  {
   "cell_type": "markdown",
   "id": "e3461197",
   "metadata": {},
   "source": [
    "# Step 4"
   ]
  },
  {
   "cell_type": "code",
   "execution_count": 6,
   "id": "520c35d6",
   "metadata": {},
   "outputs": [],
   "source": [
    "#Gruop By, Sum ve sort işlemlerini yapma\n",
    "df_step4=df_step3.groupBy(\"gps_id\").\\\n",
    "agg(round(sum(\"distanse\"),2).alias(\"total_distanse\")).\\\n",
    "sort(desc(\"total_distanse\"))\n",
    "\n",
    "#query= df_step4.writeStream.format(\"console\").outputMode(\"complete\").start()\n",
    "#query.stop()"
   ]
  },
  {
   "cell_type": "markdown",
   "id": "21ce97bf",
   "metadata": {},
   "source": [
    "# Step 5"
   ]
  },
  {
   "cell_type": "code",
   "execution_count": 7,
   "id": "4f82ab3a",
   "metadata": {},
   "outputs": [],
   "source": [
    "#Kullanıcıların bulunduğu csv dosyası ile join işlemini yapma\n",
    "userdf=spark.read.format(\"csv\")\\\n",
    ".option(\"sep\",\";\")\\\n",
    ".option(\"header\",\"true\")\\\n",
    ".option(\"encoding\",\"ISO-8859-9\")\\\n",
    ".load(\"users.csv\")\n",
    "\n",
    "\n",
    "df_step5=df_step4.join(userdf,df_step4.gps_id==userdf.gps_id)\\\n",
    ".select(df_step4.gps_id,df_step4.total_distanse,userdf.user_id,userdf.first_name)\n",
    "\n",
    "\n",
    "query= df_step5.writeStream.format(\"console\").outputMode(\"complete\").start()\n",
    "#query.stop()"
   ]
  },
  {
   "cell_type": "code",
   "execution_count": 8,
   "id": "7067804f",
   "metadata": {},
   "outputs": [],
   "source": [
    "#Query durdurma\n",
    "query.stop()"
   ]
  },
  {
   "cell_type": "code",
   "execution_count": null,
   "id": "b2c5ce3f",
   "metadata": {},
   "outputs": [],
   "source": []
  },
  {
   "cell_type": "code",
   "execution_count": null,
   "id": "90c7cf98",
   "metadata": {},
   "outputs": [],
   "source": []
  },
  {
   "cell_type": "code",
   "execution_count": null,
   "id": "2ed8af4a",
   "metadata": {},
   "outputs": [],
   "source": []
  }
 ],
 "metadata": {
  "kernelspec": {
   "display_name": "Python 3",
   "language": "python",
   "name": "python3"
  },
  "language_info": {
   "codemirror_mode": {
    "name": "ipython",
    "version": 3
   },
   "file_extension": ".py",
   "mimetype": "text/x-python",
   "name": "python",
   "nbconvert_exporter": "python",
   "pygments_lexer": "ipython3",
   "version": "3.6.15"
  }
 },
 "nbformat": 4,
 "nbformat_minor": 5
}
